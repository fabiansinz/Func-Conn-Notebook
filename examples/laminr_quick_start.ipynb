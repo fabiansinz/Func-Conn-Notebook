{
  "cells": [
    {
      "cell_type": "markdown",
      "metadata": {
        "id": "5mDni8Diu410"
      },
      "source": [
        "### Install LAMINR (this might take a minute or two)"
      ]
    },
    {
      "cell_type": "code",
      "execution_count": 1,
      "metadata": {
        "id": "L-3GQ9eJkYu0"
      },
      "outputs": [],
      "source": [
        "%%capture\n",
        "!pip install \"laminr[colab]\""
      ]
    },
    {
      "cell_type": "markdown",
      "metadata": {
        "id": "uyrUqkOWu9ZP"
      },
      "source": [
        "### Import necessary modules and set the device"
      ]
    },
    {
      "cell_type": "code",
      "execution_count": 2,
      "metadata": {
        "colab": {
          "base_uri": "https://localhost:8080/"
        },
        "id": "HgrBmFOO6ejI",
        "outputId": "1e740a76-b970-4f34-a63b-38ee6e5a02d3"
      },
      "outputs": [
        {
          "output_type": "stream",
          "name": "stdout",
          "text": [
            "\u001b[92mYou are using CUDA as device.\u001b[0m\n"
          ]
        }
      ],
      "source": [
        "import numpy as np\n",
        "import torch\n",
        "import matplotlib.pyplot as plt\n",
        "from laminr import neuron_models, get_mei_dict, InvarianceManifold\n",
        "\n",
        "# Check the device\n",
        "reset_color = \"\\033[0m\"\n",
        "if torch.cuda.is_available():\n",
        "    device = \"cuda\"\n",
        "    color = \"\\033[92m\"\n",
        "    print(f\"{color}You are using CUDA as device.{reset_color}\")\n",
        "else:\n",
        "    device = \"cpu\"\n",
        "    color = \"\\033[91m\"\n",
        "    print(f\"{color}You are using CPU - things will be slow.{reset_color}\")"
      ]
    },
    {
      "cell_type": "markdown",
      "metadata": {
        "id": "41aLQqT9vHxS"
      },
      "source": [
        "### Specify the input shape for both creating simulated neurons and optimized input"
      ]
    },
    {
      "cell_type": "code",
      "execution_count": 3,
      "metadata": {
        "id": "r4YSIu5qeS9p"
      },
      "outputs": [],
      "source": [
        "input_shape = [1, 100, 100]  # (channels, height, width)"
      ]
    },
    {
      "cell_type": "markdown",
      "metadata": {
        "id": "yPadj7GdvJ6i"
      },
      "source": [
        "Load the (pretrained or simulated) neurons model"
      ]
    },
    {
      "cell_type": "code",
      "execution_count": 4,
      "metadata": {
        "id": "E1WaskCpdVEc"
      },
      "outputs": [],
      "source": [
        "model = neuron_models.simulated(\"demo1\", img_res=input_shape[1:]).to(device)"
      ]
    },
    {
      "cell_type": "markdown",
      "metadata": {
        "id": "RDosbnOOvUVv"
      },
      "source": [
        "### Generate MEIs (Maximally Exciting Inputs)"
      ]
    },
    {
      "cell_type": "code",
      "execution_count": 5,
      "metadata": {
        "colab": {
          "base_uri": "https://localhost:8080/"
        },
        "id": "ejyOdogETgdT",
        "outputId": "12d9ea5a-9af6-41ea-b837-c11dddabeb85"
      },
      "outputs": [
        {
          "output_type": "stream",
          "name": "stdout",
          "text": [
            "neuron_idx = 0: neuron number 0/3\n",
            "Final f(x) = 1.00\n",
            "neuron_idx = 1: neuron number 1/3\n",
            "Final f(x) = 1.00\n",
            "neuron_idx = 2: neuron number 2/3\n",
            "Final f(x) = 1.00\n"
          ]
        }
      ],
      "source": [
        "image_constraints = {\n",
        "    \"pixel_value_lower_bound\": -1.0,\n",
        "    \"pixel_value_upper_bound\": 1.0,\n",
        "    \"required_img_norm\": 1.0,\n",
        "}\n",
        "meis_dict = get_mei_dict(model, input_shape, **image_constraints)"
      ]
    },
    {
      "cell_type": "code",
      "execution_count": 6,
      "metadata": {
        "colab": {
          "base_uri": "https://localhost:8080/",
          "height": 205
        },
        "id": "JQ9wiqgtdL-N",
        "outputId": "ad89ade5-1c4c-49d1-eced-696b7efb46f6"
      },
      "outputs": [
        {
          "output_type": "display_data",
          "data": {
            "text/plain": [
              "<Figure size 640x480 with 3 Axes>"
            ],
            "image/png": "[encoded data removed]"
          },
          "metadata": {}
        }
      ],
      "source": [
        "# plot the optimized MEIs\n",
        "fig, axes = plt.subplots(1, len(meis_dict))\n",
        "for ax, (neuron_idx, mei_dict) in zip(axes, meis_dict.items()):\n",
        "    mei = mei_dict[\"mei\"]\n",
        "    vmax = np.abs(mei).max()\n",
        "    vmin = -vmax\n",
        "    ax.imshow(mei[0], vmin=vmin, vmax=vmax, cmap=\"Greys_r\")\n",
        "    ax.set(xticks=[], yticks=[], title=f\"Neuron {neuron_idx}\")"
      ]
    },
    {
      "cell_type": "markdown",
      "metadata": {
        "id": "i1lHuy7cvaKR"
      },
      "source": [
        "### Initialize and run the invariance manifold pipeline"
      ]
    },
    {
      "cell_type": "code",
      "execution_count": 7,
      "metadata": {
        "id": "HyogGPW5WmSn"
      },
      "outputs": [],
      "source": [
        "inv_manifold = InvarianceManifold(model, meis_dict, **image_constraints)"
      ]
    },
    {
      "cell_type": "code",
      "execution_count": null,
      "metadata": {
        "colab": {
          "base_uri": "https://localhost:8080/"
        },
        "id": "3GkexKoLWrkJ",
        "outputId": "63b167b6-eaf6-476d-d78d-fb08dcc69ab3"
      },
      "outputs": [
        {
          "output_type": "stream",
          "name": "stderr",
          "text": [
            "Act mean = 0.92 (min = 0.91 std = 0.00):   2%|▏         | 22/1000 [01:06<46:01,  2.82s/it]"
          ]
        }
      ],
      "source": [
        "# Learn invariance manifold for neuron 0 (template)\n",
        "template_idx = 0\n",
        "template_imgs, template_activations = inv_manifold.learn(template_idx)"
      ]
    },
    {
      "cell_type": "code",
      "execution_count": null,
      "metadata": {
        "id": "yzMOKo5yWs9H"
      },
      "outputs": [],
      "source": [
        "# Align the template to neurons 1 and 2\n",
        "target_idxs = [1, 2]\n",
        "aligned_imgs, aligned_activations = inv_manifold.match(target_idxs)"
      ]
    },
    {
      "cell_type": "markdown",
      "metadata": {
        "id": "-8xzBlxPJcPr"
      },
      "source": [
        "### Visualize the learned template"
      ]
    },
    {
      "cell_type": "code",
      "execution_count": null,
      "metadata": {
        "id": "TQAXTjQxXOWx"
      },
      "outputs": [],
      "source": [
        "gif = inv_manifold.save_learned_template_as_gif()\n",
        "gif.show()"
      ]
    },
    {
      "cell_type": "markdown",
      "metadata": {
        "id": "SqZQ1nwMJcPs"
      },
      "source": [
        "### Visualize the matched templates"
      ]
    },
    {
      "cell_type": "code",
      "execution_count": null,
      "metadata": {
        "id": "DyANzVYLXwAG"
      },
      "outputs": [],
      "source": [
        "gif = inv_manifold.save_matched_template_as_gif(target_neuron_idx=1)\n",
        "gif.show()"
      ]
    },
    {
      "cell_type": "code",
      "execution_count": null,
      "metadata": {
        "id": "xdg-2cFIX72m"
      },
      "outputs": [],
      "source": [
        "gif = inv_manifold.save_matched_template_as_gif(target_neuron_idx=2)\n",
        "gif.show()"
      ]
    },
    {
      "cell_type": "code",
      "source": [],
      "metadata": {
        "id": "pNiZhMzyNN0-"
      },
      "execution_count": null,
      "outputs": []
    }
  ],
  "metadata": {
    "accelerator": "GPU",
    "colab": {
      "gpuType": "T4",
      "provenance": []
    },
    "kernelspec": {
      "display_name": "Python 3",
      "name": "python3"
    },
    "language_info": {
      "name": "python"
    }
  },
  "nbformat": 4,
  "nbformat_minor": 0
}